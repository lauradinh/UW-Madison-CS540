{
 "cells": [
  {
   "cell_type": "code",
   "execution_count": 2,
   "metadata": {},
   "outputs": [],
   "source": [
    "import numpy as np\n",
    "import copy\n",
    "import heapq"
   ]
  },
  {
   "cell_type": "code",
   "execution_count": 3,
   "metadata": {},
   "outputs": [],
   "source": [
    "def print_succ(state):\n",
    "    states = successors(state)\n",
    "    for s in states: \n",
    "            print(s, \"h= \" + str(heuristic(s)))"
   ]
  },
  {
   "cell_type": "code",
   "execution_count": 4,
   "metadata": {},
   "outputs": [],
   "source": [
    "def successors(state):\n",
    "    \"\"\"\n",
    "    Returns: a list of successors to the current state\n",
    "    \"\"\"\n",
    "    board = np.array(state).reshape(3,3)\n",
    "    states = []\n",
    "    \n",
    "    space_coordinate = ()\n",
    "    for row in range(3):\n",
    "        for col in range(3):\n",
    "            if board[row][col] == 0:\n",
    "                space_coordinate = (row, col)\n",
    "        else:\n",
    "            continue\n",
    "        break\n",
    "    \n",
    "    row = space_coordinate[0]\n",
    "    col = space_coordinate[1]\n",
    "    \n",
    "    if row == 0:\n",
    "        states.append(list(copy_board(board, row, col, 1, 0).flatten()))\n",
    "    elif row == 2: \n",
    "        states.append(list(copy_board(board, row, col, -1, 0).flatten()))\n",
    "    else:\n",
    "        states.append(list(copy_board(board, row, col, 1, 0).flatten()))\n",
    "        states.append(list(copy_board(board, row, col, -1, 0).flatten()))\n",
    "    \n",
    "    if col == 0:\n",
    "        states.append(list(copy_board(board, row, col, 0, 1).flatten()))\n",
    "    elif col == 2:\n",
    "        states.append(list(copy_board(board, row, col, 0, -1).flatten()))\n",
    "    else:\n",
    "        states.append(list(copy_board(board, row, col, 0, 1).flatten()))\n",
    "        states.append(list(copy_board(board, row, col, 0, -1).flatten()))\n",
    "    return sorted(states)\n"
   ]
  },
  {
   "cell_type": "code",
   "execution_count": 5,
   "metadata": {},
   "outputs": [],
   "source": [
    "def copy_board(board, row, col, move_row, move_col):\n",
    "    \"\"\"\n",
    "    Copies the board reference and makes changes to find a successor\n",
    "    \"\"\"\n",
    "    new_board = copy.deepcopy(board)\n",
    "    new_board[row][col] = new_board[row+move_row][col+move_col]\n",
    "    new_board[row+move_row][col+move_col] = 0\n",
    "    return new_board"
   ]
  },
  {
   "cell_type": "code",
   "execution_count": 6,
   "metadata": {},
   "outputs": [],
   "source": [
    "def heuristic(state):\n",
    "    \"\"\"\n",
    "    Helper function for print_succ\n",
    "    Returns: value of heuristic function of current state \n",
    "    \"\"\"\n",
    "    h = 0\n",
    "    goal = [(0,0), (0,1), (0,2), (1,0), (1,1), (1,2), (2,0), (2,1)]\n",
    "    board = np.array(state).reshape(3,3)\n",
    "    for row in range(3):\n",
    "        for col in range(3):\n",
    "            label = board[row][col]\n",
    "            if label == 0:\n",
    "                continue\n",
    "            h += abs(goal[label-1][0] - row) + abs(goal[label-1][1] - col)\n",
    "    return h"
   ]
  },
  {
   "cell_type": "code",
   "execution_count": 7,
   "metadata": {},
   "outputs": [],
   "source": [
    "def solve(state):\n",
    "    \n",
    "    goal = [1, 2, 3, 4, 5, 6, 7, 8, 0]\n",
    "    pq = []\n",
    "    path = []\n",
    "    list_parents = []\n",
    "    heapq.heappush(pq, (heuristic(state), state, (0, heuristic(state), -1)))\n",
    "    while(len(pq) != 0):\n",
    "        n = heapq.heappop(pq)\n",
    "        path.append(n)\n",
    "        if n[1] == goal:\n",
    "            break\n",
    "        for successor in successors(n[1]):\n",
    "            list_parents.append((successor, n[1]))\n",
    "            parent_index = n[2][2] + 1\n",
    "            g =  n[2][0] + 1\n",
    "            h = heuristic(successor)\n",
    "            n_next = (g + h, successor, (g, h, parent_index))\n",
    "            in_path = False\n",
    "            in_pq = False            \n",
    "                    \n",
    "            for s in pq:\n",
    "                if s[1] == successor:\n",
    "                    in_pq = True\n",
    "                    break\n",
    "\n",
    "            for s in path:\n",
    "                if s[1] == successor:\n",
    "                    in_path = True\n",
    "                    break\n",
    "            \n",
    "            if (not in_path) and (not in_pq):\n",
    "                heapq.heappush(pq, n_next)\n",
    "    \n",
    "    next_node = path[-1]\n",
    "    p = []\n",
    "    for i, curr in reversed(list(enumerate(path))):\n",
    "        if next_node != curr:\n",
    "            continue\n",
    "        if curr[2][2] == -1:\n",
    "            p.append(curr)\n",
    "            break\n",
    "            \n",
    "        parent_found = False\n",
    "        \n",
    "        curr_parent = []\n",
    "        for pair in reversed(list_parents):\n",
    "            if pair[0] == curr[1]:\n",
    "                if pair[1] == path[i-1][1]:\n",
    "                    next_node = path[i - 1]\n",
    "                    parent_found = True\n",
    "                    break\n",
    "                else:\n",
    "                    curr_parent.append(pair[1])\n",
    "                    \n",
    "        if not parent_found:\n",
    "            n = 2\n",
    "            while(path[i-n][1] not in curr_parent):\n",
    "                n = n + 1\n",
    "            next_node = path[i-n]\n",
    "        p.append(curr)\n",
    "            \n",
    "            \n",
    "    for board in reversed(p):\n",
    "        print(\"{} h={} moves: {}\".format(board[1], board[2][1], board[2][0]))"
   ]
  },
  {
   "cell_type": "code",
   "execution_count": 172,
   "metadata": {},
   "outputs": [
    {
     "name": "stdout",
     "output_type": "stream",
     "text": [
      "[1, 2, 3, 0, 4, 6, 7, 5, 8] h=3 moves: 0\n",
      "[1, 2, 3, 4, 0, 6, 7, 5, 8] h=2 moves: 1\n",
      "[1, 2, 3, 4, 5, 6, 7, 0, 8] h=1 moves: 2\n",
      "[1, 2, 3, 4, 5, 6, 7, 8, 0] h=0 moves: 3\n"
     ]
    }
   ],
   "source": [
    "solve([1,2,3,0,4,6,7,5,8])"
   ]
  },
  {
   "cell_type": "code",
   "execution_count": 173,
   "metadata": {},
   "outputs": [
    {
     "name": "stdout",
     "output_type": "stream",
     "text": [
      "[1, 2, 3, 4, 5, 6, 7, 0, 8] h=1 moves: 0\n",
      "[1, 2, 3, 4, 5, 6, 7, 8, 0] h=0 moves: 1\n"
     ]
    }
   ],
   "source": [
    "solve([1,2,3,4,5,6,7,0,8])"
   ]
  },
  {
   "cell_type": "code",
   "execution_count": 174,
   "metadata": {},
   "outputs": [
    {
     "name": "stdout",
     "output_type": "stream",
     "text": [
      "[4, 3, 8, 5, 1, 6, 7, 2, 0] h=10 moves: 0\n",
      "[4, 3, 8, 5, 1, 0, 7, 2, 6] h=11 moves: 1\n",
      "[4, 3, 0, 5, 1, 8, 7, 2, 6] h=10 moves: 2\n",
      "[4, 0, 3, 5, 1, 8, 7, 2, 6] h=9 moves: 3\n",
      "[4, 1, 3, 5, 0, 8, 7, 2, 6] h=8 moves: 4\n",
      "[4, 1, 3, 5, 8, 0, 7, 2, 6] h=7 moves: 5\n",
      "[4, 1, 3, 5, 8, 6, 7, 2, 0] h=6 moves: 6\n",
      "[4, 1, 3, 5, 8, 6, 7, 0, 2] h=7 moves: 7\n",
      "[4, 1, 3, 5, 0, 6, 7, 8, 2] h=6 moves: 8\n",
      "[4, 1, 3, 0, 5, 6, 7, 8, 2] h=5 moves: 9\n",
      "[0, 1, 3, 4, 5, 6, 7, 8, 2] h=4 moves: 10\n",
      "[1, 0, 3, 4, 5, 6, 7, 8, 2] h=3 moves: 11\n",
      "[1, 3, 0, 4, 5, 6, 7, 8, 2] h=4 moves: 12\n",
      "[1, 3, 6, 4, 5, 0, 7, 8, 2] h=5 moves: 13\n",
      "[1, 3, 6, 4, 5, 2, 7, 8, 0] h=4 moves: 14\n",
      "[1, 3, 6, 4, 5, 2, 7, 0, 8] h=5 moves: 15\n",
      "[1, 3, 6, 4, 0, 2, 7, 5, 8] h=6 moves: 16\n",
      "[1, 3, 6, 4, 2, 0, 7, 5, 8] h=5 moves: 17\n",
      "[1, 3, 0, 4, 2, 6, 7, 5, 8] h=4 moves: 18\n",
      "[1, 0, 3, 4, 2, 6, 7, 5, 8] h=3 moves: 19\n",
      "[1, 2, 3, 4, 0, 6, 7, 5, 8] h=2 moves: 20\n",
      "[1, 2, 3, 4, 5, 6, 7, 0, 8] h=1 moves: 21\n",
      "[1, 2, 3, 4, 5, 6, 7, 8, 0] h=0 moves: 22\n"
     ]
    }
   ],
   "source": [
    "solve([4,3,8,5,1,6,7,2,0])"
   ]
  },
  {
   "cell_type": "code",
   "execution_count": 175,
   "metadata": {},
   "outputs": [
    {
     "name": "stdout",
     "output_type": "stream",
     "text": [
      "[8, 6, 7, 2, 5, 4, 3, 0, 1] h=21 moves: 0\n",
      "[8, 6, 7, 2, 5, 4, 3, 1, 0] h=20 moves: 1\n",
      "[8, 6, 7, 2, 5, 0, 3, 1, 4] h=21 moves: 2\n",
      "[8, 6, 0, 2, 5, 7, 3, 1, 4] h=20 moves: 3\n",
      "[8, 0, 6, 2, 5, 7, 3, 1, 4] h=19 moves: 4\n",
      "[0, 8, 6, 2, 5, 7, 3, 1, 4] h=18 moves: 5\n",
      "[2, 8, 6, 0, 5, 7, 3, 1, 4] h=17 moves: 6\n",
      "[2, 8, 6, 5, 0, 7, 3, 1, 4] h=18 moves: 7\n",
      "[2, 0, 6, 5, 8, 7, 3, 1, 4] h=17 moves: 8\n",
      "[0, 2, 6, 5, 8, 7, 3, 1, 4] h=16 moves: 9\n",
      "[5, 2, 6, 0, 8, 7, 3, 1, 4] h=17 moves: 10\n",
      "[5, 2, 6, 8, 0, 7, 3, 1, 4] h=18 moves: 9\n",
      "[5, 2, 6, 8, 1, 7, 3, 0, 4] h=17 moves: 10\n",
      "[5, 2, 6, 8, 1, 7, 0, 3, 4] h=16 moves: 11\n",
      "[5, 2, 6, 0, 1, 7, 8, 3, 4] h=15 moves: 12\n",
      "[5, 2, 6, 1, 0, 7, 8, 3, 4] h=14 moves: 13\n",
      "[5, 2, 6, 1, 7, 0, 8, 3, 4] h=13 moves: 14\n",
      "[5, 2, 0, 1, 7, 6, 8, 3, 4] h=12 moves: 15\n",
      "[5, 0, 2, 1, 7, 6, 8, 3, 4] h=13 moves: 16\n",
      "[0, 5, 2, 1, 7, 6, 8, 3, 4] h=12 moves: 17\n",
      "[1, 5, 2, 0, 7, 6, 8, 3, 4] h=11 moves: 18\n",
      "[1, 5, 2, 7, 0, 6, 8, 3, 4] h=10 moves: 19\n",
      "[1, 5, 2, 7, 3, 6, 8, 0, 4] h=9 moves: 20\n",
      "[1, 5, 2, 7, 3, 6, 8, 4, 0] h=8 moves: 21\n",
      "[1, 5, 2, 7, 3, 0, 8, 4, 6] h=9 moves: 22\n",
      "[1, 5, 2, 7, 0, 3, 8, 4, 6] h=8 moves: 23\n",
      "[1, 5, 2, 7, 4, 3, 8, 0, 6] h=7 moves: 24\n",
      "[1, 5, 2, 7, 4, 3, 0, 8, 6] h=6 moves: 25\n",
      "[1, 5, 2, 0, 4, 3, 7, 8, 6] h=5 moves: 26\n",
      "[1, 5, 2, 4, 0, 3, 7, 8, 6] h=4 moves: 27\n",
      "[1, 0, 2, 4, 5, 3, 7, 8, 6] h=3 moves: 28\n",
      "[1, 2, 0, 4, 5, 3, 7, 8, 6] h=2 moves: 29\n",
      "[1, 2, 3, 4, 5, 0, 7, 8, 6] h=1 moves: 30\n",
      "[1, 2, 3, 4, 5, 6, 7, 8, 0] h=0 moves: 31\n"
     ]
    }
   ],
   "source": [
    "solve([8,6,7,2,5,4,3,0,1])"
   ]
  },
  {
   "cell_type": "code",
   "execution_count": 177,
   "metadata": {},
   "outputs": [
    {
     "name": "stdout",
     "output_type": "stream",
     "text": [
      "[6, 5, 0, 8, 2, 4, 3, 1, 7] h=18 moves: 0\n",
      "[6, 0, 5, 8, 2, 4, 3, 1, 7] h=19 moves: 1\n",
      "[6, 2, 5, 8, 0, 4, 3, 1, 7] h=18 moves: 2\n",
      "[6, 2, 5, 0, 8, 4, 3, 1, 7] h=17 moves: 3\n",
      "[6, 2, 5, 3, 8, 4, 0, 1, 7] h=16 moves: 4\n",
      "[6, 2, 5, 3, 8, 4, 1, 0, 7] h=15 moves: 5\n",
      "[6, 2, 5, 3, 8, 4, 1, 7, 0] h=14 moves: 6\n",
      "[6, 2, 5, 3, 8, 0, 1, 7, 4] h=15 moves: 7\n",
      "[6, 2, 5, 3, 0, 8, 1, 7, 4] h=16 moves: 8\n",
      "[6, 2, 5, 0, 3, 8, 1, 7, 4] h=15 moves: 9\n",
      "[0, 2, 5, 6, 3, 8, 1, 7, 4] h=14 moves: 10\n",
      "[2, 0, 5, 6, 3, 8, 1, 7, 4] h=15 moves: 11\n",
      "[2, 3, 5, 6, 0, 8, 1, 7, 4] h=14 moves: 12\n",
      "[2, 3, 5, 0, 6, 8, 1, 7, 4] h=13 moves: 13\n",
      "[2, 3, 5, 1, 6, 8, 0, 7, 4] h=12 moves: 14\n",
      "[2, 3, 5, 1, 6, 8, 7, 0, 4] h=11 moves: 15\n",
      "[2, 3, 5, 1, 6, 8, 7, 4, 0] h=10 moves: 16\n",
      "[2, 3, 5, 1, 6, 0, 7, 4, 8] h=9 moves: 17\n",
      "[2, 3, 5, 1, 0, 6, 7, 4, 8] h=8 moves: 18\n",
      "[2, 3, 5, 1, 4, 6, 7, 0, 8] h=7 moves: 19\n",
      "[2, 3, 5, 1, 4, 6, 7, 8, 0] h=6 moves: 20\n",
      "[2, 3, 5, 1, 4, 0, 7, 8, 6] h=7 moves: 21\n",
      "[2, 3, 0, 1, 4, 5, 7, 8, 6] h=6 moves: 22\n",
      "[2, 0, 3, 1, 4, 5, 7, 8, 6] h=5 moves: 23\n",
      "[0, 2, 3, 1, 4, 5, 7, 8, 6] h=4 moves: 24\n",
      "[1, 2, 3, 0, 4, 5, 7, 8, 6] h=3 moves: 25\n",
      "[1, 2, 3, 4, 0, 5, 7, 8, 6] h=2 moves: 26\n",
      "[1, 2, 3, 4, 5, 0, 7, 8, 6] h=1 moves: 27\n",
      "[1, 2, 3, 4, 5, 6, 7, 8, 0] h=0 moves: 28\n"
     ]
    }
   ],
   "source": [
    "solve([6,5,0,8,2,4,3,1,7])"
   ]
  },
  {
   "cell_type": "code",
   "execution_count": 8,
   "metadata": {},
   "outputs": [
    {
     "name": "stdout",
     "output_type": "stream",
     "text": [
      "[1, 2, 0, 4, 5, 3, 6, 7, 8] h= 6\n",
      "[1, 2, 3, 4, 0, 5, 6, 7, 8] h= 6\n",
      "[1, 2, 3, 4, 5, 8, 6, 7, 0] h= 6\n"
     ]
    }
   ],
   "source": [
    "print_succ([1,2,3,4,5,0,6,7,8])"
   ]
  },
  {
   "cell_type": "code",
   "execution_count": null,
   "metadata": {},
   "outputs": [],
   "source": []
  }
 ],
 "metadata": {
  "kernelspec": {
   "display_name": "Python 3",
   "language": "python",
   "name": "python3"
  },
  "language_info": {
   "codemirror_mode": {
    "name": "ipython",
    "version": 3
   },
   "file_extension": ".py",
   "mimetype": "text/x-python",
   "name": "python",
   "nbconvert_exporter": "python",
   "pygments_lexer": "ipython3",
   "version": "3.8.5"
  }
 },
 "nbformat": 4,
 "nbformat_minor": 4
}
