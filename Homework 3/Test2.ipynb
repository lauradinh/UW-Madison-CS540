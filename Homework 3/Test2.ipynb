{
 "cells": [
  {
   "cell_type": "code",
   "execution_count": 1,
   "metadata": {},
   "outputs": [],
   "source": [
    "from scipy.linalg import eigh\n",
    "import numpy as np\n",
    "import matplotlib.pyplot as plt"
   ]
  },
  {
   "cell_type": "code",
   "execution_count": 2,
   "metadata": {},
   "outputs": [],
   "source": [
    "def load_and_center_dataset(filename):\n",
    "    dataset = np.load(filename)\n",
    "\n",
    "    return dataset - np.mean(dataset, axis = 0)"
   ]
  },
  {
   "cell_type": "code",
   "execution_count": 3,
   "metadata": {},
   "outputs": [
    {
     "data": {
      "text/plain": [
       "2414"
      ]
     },
     "execution_count": 3,
     "metadata": {},
     "output_type": "execute_result"
    }
   ],
   "source": [
    "x = load_and_center_dataset('YaleB_32x32.npy')\n",
    "len(x)"
   ]
  },
  {
   "cell_type": "code",
   "execution_count": 4,
   "metadata": {},
   "outputs": [
    {
     "data": {
      "text/plain": [
       "1024"
      ]
     },
     "execution_count": 4,
     "metadata": {},
     "output_type": "execute_result"
    }
   ],
   "source": [
    "len(x[0])"
   ]
  },
  {
   "cell_type": "code",
   "execution_count": 5,
   "metadata": {},
   "outputs": [
    {
     "data": {
      "text/plain": [
       "-8.315174931741023e-17"
      ]
     },
     "execution_count": 5,
     "metadata": {},
     "output_type": "execute_result"
    }
   ],
   "source": [
    "np.average(x)"
   ]
  },
  {
   "cell_type": "code",
   "execution_count": 6,
   "metadata": {},
   "outputs": [],
   "source": [
    "def get_covariance(dataset):\n",
    "    n = len(dataset)\n",
    "    covariance = np.dot(np.transpose(dataset), dataset)\n",
    "    \n",
    "    return covariance * (1/(n-1))"
   ]
  },
  {
   "cell_type": "code",
   "execution_count": 7,
   "metadata": {},
   "outputs": [
    {
     "data": {
      "text/plain": [
       "1024"
      ]
     },
     "execution_count": 7,
     "metadata": {},
     "output_type": "execute_result"
    }
   ],
   "source": [
    "co = get_covariance(x)\n",
    "len(co)"
   ]
  },
  {
   "cell_type": "code",
   "execution_count": 8,
   "metadata": {},
   "outputs": [
    {
     "data": {
      "text/plain": [
       "1024"
      ]
     },
     "execution_count": 8,
     "metadata": {},
     "output_type": "execute_result"
    }
   ],
   "source": [
    "len(co[0])"
   ]
  },
  {
   "cell_type": "code",
   "execution_count": 9,
   "metadata": {},
   "outputs": [],
   "source": [
    "def get_eig(S, m):\n",
    "    evalue, evector = eigh(S, subset_by_index= [len(S) - m,len(S) - 1])\n",
    "    diagonal = np.diag(evalue)\n",
    "    return np.flip(diagonal), np.flip(evector, axis=1)"
   ]
  },
  {
   "cell_type": "code",
   "execution_count": 10,
   "metadata": {},
   "outputs": [
    {
     "name": "stdout",
     "output_type": "stream",
     "text": [
      "[[1369142.41612494       0.        ]\n",
      " [      0.         1341168.50476773]]\n"
     ]
    }
   ],
   "source": [
    "Lambda, U = get_eig(co, 2)\n",
    "print(Lambda)"
   ]
  },
  {
   "cell_type": "code",
   "execution_count": 11,
   "metadata": {},
   "outputs": [
    {
     "name": "stdout",
     "output_type": "stream",
     "text": [
      "[[-0.01304065 -0.0432441 ]\n",
      " [-0.01177219 -0.04342345]\n",
      " [-0.00905278 -0.04095089]\n",
      " ...\n",
      " [ 0.00148631  0.03622013]\n",
      " [ 0.00205216  0.0348093 ]\n",
      " [ 0.00305951  0.03330786]]\n"
     ]
    }
   ],
   "source": [
    "print(U)"
   ]
  },
  {
   "cell_type": "code",
   "execution_count": 12,
   "metadata": {},
   "outputs": [],
   "source": [
    "def get_eig_perc(S, perc):\n",
    "    evalue, evector = eigh(S)\n",
    "    evalue = np.flip(evalue)\n",
    "    evector = np.flip((evector), axis=1)\n",
    "    evector = np.transpose(evector)\n",
    "    \n",
    "    sum = 0\n",
    "    for i in evalue:\n",
    "        sum += i\n",
    "    \n",
    "    cer_perc_evalues = []\n",
    "    cer_perc_evectors = []\n",
    "    \n",
    "    for val, vector in zip(evalue,evector):\n",
    "        if val/sum > perc:\n",
    "            cer_perc_evalues.append(val)\n",
    "            cer_perc_evectors.append(vector)\n",
    "        \n",
    "    \n",
    "    diagonal = np.diag(np.asarray(cer_perc_evalues))\n",
    "    return diagonal, np.transpose(np.asarray(cer_perc_evectors))"
   ]
  },
  {
   "cell_type": "code",
   "execution_count": 13,
   "metadata": {},
   "outputs": [
    {
     "name": "stdout",
     "output_type": "stream",
     "text": [
      "[[1369142.41612494       0.        ]\n",
      " [      0.         1341168.50476773]]\n"
     ]
    }
   ],
   "source": [
    "Lambda, U = get_eig_perc(co, 0.07)\n",
    "print(Lambda)"
   ]
  },
  {
   "cell_type": "code",
   "execution_count": 14,
   "metadata": {},
   "outputs": [
    {
     "name": "stdout",
     "output_type": "stream",
     "text": [
      "[[-0.01304065 -0.0432441 ]\n",
      " [-0.01177219 -0.04342345]\n",
      " [-0.00905278 -0.04095089]\n",
      " ...\n",
      " [ 0.00148631  0.03622013]\n",
      " [ 0.00205216  0.0348093 ]\n",
      " [ 0.00305951  0.03330786]]\n"
     ]
    }
   ],
   "source": [
    "print(U)"
   ]
  },
  {
   "cell_type": "code",
   "execution_count": 15,
   "metadata": {},
   "outputs": [],
   "source": [
    "def project_image(img, U):\n",
    "    sum = 0\n",
    "    for vector in np.transpose(U):\n",
    "        alpha = np.dot(np.transpose(vector), img)\n",
    "        sum += np.dot(alpha, vector)\n",
    "    return sum"
   ]
  },
  {
   "cell_type": "code",
   "execution_count": 16,
   "metadata": {},
   "outputs": [
    {
     "name": "stdout",
     "output_type": "stream",
     "text": [
      "[6.84122225 4.83901287 1.41736694 ... 8.75796534 7.45916035 5.4548656 ]\n"
     ]
    }
   ],
   "source": [
    "print(project_image(x[0], U))"
   ]
  },
  {
   "cell_type": "code",
   "execution_count": 17,
   "metadata": {},
   "outputs": [],
   "source": [
    "def display_image(orig, proj):\n",
    "    reshape_orig = np.transpose(orig.reshape((32, 32)))\n",
    "    reshape_proj = np.transpose(proj.reshape((32, 32)))\n",
    "    fig, (ax1, ax2) = plt.subplots(1, 2, figsize = (9,3))\n",
    "    ax1.set_title('Original')\n",
    "    ax2.set_title('Projection')\n",
    "    \n",
    "    axes_orig = ax1.imshow(reshape_orig, aspect = 'equal')\n",
    "    orig_cbar = fig.colorbar(axes_orig, ax=ax1)\n",
    "    \n",
    "    axes_proj = ax2.imshow(reshape_proj, aspect = 'equal')\n",
    "    proj_cbar = fig.colorbar(axes_proj, ax=ax2)\n",
    "    \n",
    "    plt.show()"
   ]
  },
  {
   "cell_type": "code",
   "execution_count": 18,
   "metadata": {},
   "outputs": [
    {
     "data": {
      "image/png": "[encoded data removed]",
      "text/plain": [
       "<Figure size 648x216 with 4 Axes>"
      ]
     },
     "metadata": {
      "needs_background": "light"
     },
     "output_type": "display_data"
    }
   ],
   "source": [
    "projection = project_image(x[0], U)\n",
    "display_image(x[0], projection)"
   ]
  }
 ],
 "metadata": {
  "kernelspec": {
   "display_name": "Python 3",
   "language": "python",
   "name": "python3"
  },
  "language_info": {
   "codemirror_mode": {
    "name": "ipython",
    "version": 3
   },
   "file_extension": ".py",
   "mimetype": "text/x-python",
   "name": "python",
   "nbconvert_exporter": "python",
   "pygments_lexer": "ipython3",
   "version": "3.8.5"
  }
 },
 "nbformat": 4,
 "nbformat_minor": 4
}
