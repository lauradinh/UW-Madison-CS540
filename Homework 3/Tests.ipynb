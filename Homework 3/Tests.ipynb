{
 "cells": [
  {
   "cell_type": "code",
   "execution_count": 1,
   "metadata": {},
   "outputs": [],
   "source": [
    "from scipy.linalg import eigh\n",
    "import numpy as np\n",
    "import matplotlib.pyplot as plt"
   ]
  },
  {
   "cell_type": "code",
   "execution_count": 2,
   "metadata": {},
   "outputs": [],
   "source": [
    "def load_and_center_dataset(filename):\n",
    "    dataset = np.load(filename)\n",
    "\n",
    "    return dataset - np.mean(dataset, axis = 0)"
   ]
  },
  {
   "cell_type": "code",
   "execution_count": 3,
   "metadata": {},
   "outputs": [
    {
     "data": {
      "text/plain": [
       "2414"
      ]
     },
     "execution_count": 3,
     "metadata": {},
     "output_type": "execute_result"
    }
   ],
   "source": [
    "x = load_and_center_dataset('YaleB_32x32.npy')\n",
    "len(x)"
   ]
  },
  {
   "cell_type": "code",
   "execution_count": 4,
   "metadata": {},
   "outputs": [
    {
     "data": {
      "text/plain": [
       "1024"
      ]
     },
     "execution_count": 4,
     "metadata": {},
     "output_type": "execute_result"
    }
   ],
   "source": [
    "len(x[0])"
   ]
  },
  {
   "cell_type": "code",
   "execution_count": 5,
   "metadata": {},
   "outputs": [
    {
     "data": {
      "text/plain": [
       "-8.315174931741023e-17"
      ]
     },
     "execution_count": 5,
     "metadata": {},
     "output_type": "execute_result"
    }
   ],
   "source": [
    "np.average(x)"
   ]
  },
  {
   "cell_type": "code",
   "execution_count": 6,
   "metadata": {},
   "outputs": [],
   "source": [
    "def get_covariance(dataset):\n",
    "    np.transpose(dataset)\n",
    "    corvariance = np.dot(np.transpose(dataset), dataset)\n",
    "    \n",
    "    return corvariance / (len(dataset) - 1)"
   ]
  },
  {
   "cell_type": "code",
   "execution_count": 7,
   "metadata": {},
   "outputs": [
    {
     "data": {
      "text/plain": [
       "1024"
      ]
     },
     "execution_count": 7,
     "metadata": {},
     "output_type": "execute_result"
    }
   ],
   "source": [
    "len(get_covariance(x)[1])"
   ]
  },
  {
   "cell_type": "code",
   "execution_count": 8,
   "metadata": {
    "scrolled": true
   },
   "outputs": [
    {
     "name": "stdout",
     "output_type": "stream",
     "text": [
      "[[ 4489.89086662  4389.34792897  3995.10495964 ... -1746.30867941\n",
      "  -1717.96935269 -1747.38102573]\n",
      " [ 4389.34792897  4494.33226746  4121.91863906 ... -1806.20485557\n",
      "  -1776.84081736 -1794.5663578 ]\n",
      " [ 3995.10495964  4121.91863906  4165.45776399 ... -1715.27680755\n",
      "  -1671.3253095  -1691.55397407]\n",
      " ...\n",
      " [-1746.30867941 -1806.20485557 -1715.27680755 ...  3756.33920877\n",
      "   3586.66741082  3219.28148259]\n",
      " [-1717.96935269 -1776.84081736 -1671.3253095  ...  3586.66741082\n",
      "   3596.68436881  3292.45606665]\n",
      " [-1747.38102573 -1794.5663578  -1691.55397407 ...  3219.28148259\n",
      "   3292.45606665  3497.1660824 ]]\n"
     ]
    }
   ],
   "source": [
    "co = get_covariance(x)\n",
    "print(co)"
   ]
  },
  {
   "cell_type": "code",
   "execution_count": 9,
   "metadata": {},
   "outputs": [],
   "source": [
    "def get_eig(S, m):\n",
    "    eigenvalues, eigenvectors = eigh(S, eigvals = (0, m-1))\n",
    "    diagonal_eigenvalues = np.diag(eigenvalues)\n",
    "    return np.flip(diagonal_eigenvalues), np.flip(eigenvectors, axis = 1)"
   ]
  },
  {
   "cell_type": "code",
   "execution_count": 10,
   "metadata": {},
   "outputs": [
    {
     "name": "stdout",
     "output_type": "stream",
     "text": [
      "[[1.36978864 0.        ]\n",
      " [0.         1.31441582]]\n"
     ]
    }
   ],
   "source": [
    "Lambda, U = get_eig(co, 2)\n",
    "print(Lambda)"
   ]
  },
  {
   "cell_type": "code",
   "execution_count": 11,
   "metadata": {},
   "outputs": [
    {
     "name": "stdout",
     "output_type": "stream",
     "text": [
      "[[-0.00356727 -0.00461699]\n",
      " [ 0.01833862  0.01239398]\n",
      " [-0.0047262   0.00711878]\n",
      " ...\n",
      " [-0.00167048  0.00579624]\n",
      " [-0.00767692 -0.00319798]\n",
      " [ 0.00560464  0.00535599]]\n"
     ]
    }
   ],
   "source": [
    "print(U)"
   ]
  },
  {
   "cell_type": "code",
   "execution_count": 12,
   "metadata": {},
   "outputs": [
    {
     "name": "stdout",
     "output_type": "stream",
     "text": [
      "[5, 2, 3]\n"
     ]
    }
   ],
   "source": [
    "list = []\n",
    "list.append(5)\n",
    "list.append(2)\n",
    "list.append(3)\n",
    "print(list)"
   ]
  },
  {
   "cell_type": "code",
   "execution_count": 13,
   "metadata": {},
   "outputs": [
    {
     "name": "stdout",
     "output_type": "stream",
     "text": [
      "5\n",
      "2\n",
      "3\n"
     ]
    }
   ],
   "source": [
    "for i in list:\n",
    "    print(i)"
   ]
  }
 ],
 "metadata": {
  "kernelspec": {
   "display_name": "Python 3",
   "language": "python",
   "name": "python3"
  },
  "language_info": {
   "codemirror_mode": {
    "name": "ipython",
    "version": 3
   },
   "file_extension": ".py",
   "mimetype": "text/x-python",
   "name": "python",
   "nbconvert_exporter": "python",
   "pygments_lexer": "ipython3",
   "version": "3.8.5"
  }
 },
 "nbformat": 4,
 "nbformat_minor": 4
}
